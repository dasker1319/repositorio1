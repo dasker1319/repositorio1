{
  "nbformat": 4,
  "nbformat_minor": 0,
  "metadata": {
    "colab": {
      "provenance": []
    },
    "kernelspec": {
      "name": "python3",
      "display_name": "Python 3"
    },
    "language_info": {
      "name": "python"
    }
  },
  "cells": [
    {
      "cell_type": "code",
      "execution_count": 1,
      "metadata": {
        "colab": {
          "base_uri": "https://localhost:8080/"
        },
        "id": "q8VqOdb44Pp8",
        "outputId": "ed4c72a6-4a3e-4540-cf8f-dd6cd5e5bc74"
      },
      "outputs": [
        {
          "output_type": "stream",
          "name": "stdout",
          "text": [
            "['adidas', 'colombia', 'alemania']\n"
          ]
        }
      ],
      "source": [
        "palabras = [\"adidas\",\"colombia\",\"argentina\", \"brasil\", \"alemania\"]\n",
        "\n",
        "palabras.pop(-2,) #se esta eliminado un elemento de la lista\n",
        "palabras.pop(2,)\n",
        "\n",
        "print(palabras)\n"
      ]
    },
    {
      "cell_type": "code",
      "source": [
        "palabras = [\"hola\", \"hello\", \"ciao\", \"salute\", \"hello\"]\n",
        "\n",
        "palabras.remove(\"hello\") #se esta eliminado un elemento de la lista\n",
        "palabras.remove(\"hola\")\n",
        "\n",
        "print(palabras)#con esto imprime las palabras o elementos que no fueron eliminados"
      ],
      "metadata": {
        "colab": {
          "base_uri": "https://localhost:8080/"
        },
        "id": "SSvcvmLU4h-F",
        "outputId": "082daab0-8b0f-48c4-b5a7-396c2bc33444"
      },
      "execution_count": 2,
      "outputs": [
        {
          "output_type": "stream",
          "name": "stdout",
          "text": [
            "['ciao', 'salute', 'hello']\n"
          ]
        }
      ]
    },
    {
      "cell_type": "code",
      "source": [
        "personas = [\n",
        "    {\"nombre\": \"Juan\", \"documento\": \"12345678\"},\n",
        "    {\"nombre\": \"Ana\", \"documento\": \"23456789\"},\n",
        "    {\"nombre\": \"Luis\", \"documento\": \"34567890\"}\n",
        "]\n",
        "\n",
        "\n",
        "for persona in personas:\n",
        "    print(f\"Nombre: {persona['nombre']}, Documento: {persona['documento']}\")"
      ],
      "metadata": {
        "colab": {
          "base_uri": "https://localhost:8080/"
        },
        "id": "k54dd1Gm5GhE",
        "outputId": "c0c3a84b-adf3-435d-bebf-05bfc13f2f0c"
      },
      "execution_count": 3,
      "outputs": [
        {
          "output_type": "stream",
          "name": "stdout",
          "text": [
            "Nombre: Juan, Documento: 12345678\n",
            "Nombre: Ana, Documento: 23456789\n",
            "Nombre: Luis, Documento: 34567890\n"
          ]
        }
      ]
    },
    {
      "cell_type": "code",
      "source": [
        "# cantidad de personas a ingresar\n",
        "tamaño = int(input(\"Ingrese la cantidad de personas: \"))\n",
        "\n",
        "# Inicializamos las listas donde guardaremos los datos\n",
        "nombres = []\n",
        "identificaciones = []\n",
        "direcciones = []\n",
        "\n",
        "# Bucle para ingresar los datos de cada persona\n",
        "for i in range(tamaño):\n",
        "    print(\"Ingrese los datos de la persona\", i + 1)\n",
        "    nombre = input(\"Nombre: \")\n",
        "    identificacion = input(\"Identificación: \")\n",
        "    direccion = input(\"Dirección: \")\n",
        "\n",
        "    # Guardamos los datos en las listas correspondientes\n",
        "    nombres.append(nombre)\n",
        "    identificaciones.append(identificacion)\n",
        "    direcciones.append(direccion)\n",
        "\n",
        "# Bucle para mostrar los datos ingresados de cada persona\n",
        "for i in range(tamaño):\n",
        "    print(\"\\nMostrando los datos de la persona\", i + 1)\n",
        "    print(\"Nombre:\", nombres[i])\n",
        "    print(\"Identificación:\", identificaciones[i])\n",
        "    print(\"Dirección:\", direcciones[i])\n"
      ],
      "metadata": {
        "colab": {
          "base_uri": "https://localhost:8080/"
        },
        "id": "nO4Y1KkG5Jk9",
        "outputId": "72890136-37e5-4ec4-f45d-b97cbb411437"
      },
      "execution_count": 27,
      "outputs": [
        {
          "output_type": "stream",
          "name": "stdout",
          "text": [
            "Ingrese la cantidad de personas: 1\n",
            "Ingrese los datos de la persona 1\n",
            "Nombre: paka\n",
            "Identificación: 1012357850\n",
            "Dirección: carrera78c#60-42 sur\n",
            "\n",
            "Mostrando los datos de la persona 1\n",
            "Nombre: paka\n",
            "Identificación: 1012357850\n",
            "Dirección: carrera78c#60-42 sur\n"
          ]
        }
      ]
    },
    {
      "cell_type": "code",
      "source": [
        "\n",
        "\n",
        "import numpy as np\n",
        "\n",
        "lst=[10,20,30,40,50]\n",
        "\n",
        "lst2=['andres','jose','maria','alan','david']\n",
        "\n",
        "lst3=['melon','lulo','banano','piña','cerezas']\n",
        "\n",
        "vctr = np.array(lst)\n",
        "\n",
        "vctr1 = np.array(lst2)\n",
        "\n",
        "vctr2 = np.array(lst3)\n",
        "\n",
        "\n",
        "print(\"Vector created from a list:\")\n",
        "print(vctr)\n",
        "print(vctr1)\n",
        "print(vctr2)"
      ],
      "metadata": {
        "colab": {
          "base_uri": "https://localhost:8080/"
        },
        "id": "bF3nM6sj9XHE",
        "outputId": "9852be9a-1fe3-4d49-e276-8bc5ca21e017"
      },
      "execution_count": 28,
      "outputs": [
        {
          "output_type": "stream",
          "name": "stdout",
          "text": [
            "Vector created from a list:\n",
            "[10 20 30 40 50]\n",
            "['andres' 'jose' 'maria' 'alan' 'david']\n",
            "['melon' 'lulo' 'banano' 'piña' 'cerezas']\n"
          ]
        }
      ]
    },
    {
      "cell_type": "code",
      "source": [
        "import numpy as np\n",
        "\n",
        "lst=[[2],[4],[6],[10]]\n",
        "\n",
        "lst1=[[\"andres\"],[\"jose\"],[\"maria\"],[\"alan\"]]\n",
        "\n",
        "lst2=[[\"lulo\"],[\"piña\"],[\"cerezas\"],[\"banana\"]]\n",
        "\n",
        "vctr = np.array(lst)\n",
        "vctr1 = np.array(lst1)\n",
        "vctr2 = np.array(lst2)\n",
        "\n",
        "print(\"vector created from a list: \")\n",
        "print(vctr)\n",
        "\n",
        "print(\"vector created from a list: \")\n",
        "print(vctr1)\n",
        "print(\"vector created from a list: \")\n",
        "print(vctr2)"
      ],
      "metadata": {
        "colab": {
          "base_uri": "https://localhost:8080/"
        },
        "id": "xcKc-ZV19j6s",
        "outputId": "725da61a-5dfb-4ee9-8d0b-7dbb8cd657e0"
      },
      "execution_count": 18,
      "outputs": [
        {
          "output_type": "stream",
          "name": "stdout",
          "text": [
            "vector created from a list: \n",
            "[[ 2]\n",
            " [ 4]\n",
            " [ 6]\n",
            " [10]]\n",
            "vector created from a list: \n",
            "[['andres']\n",
            " ['jose']\n",
            " ['maria']\n",
            " ['alan']]\n",
            "vector created from a list: \n",
            "[['lulo']\n",
            " ['piña']\n",
            " ['cerezas']\n",
            " ['banana']]\n"
          ]
        }
      ]
    },
    {
      "cell_type": "code",
      "source": [
        "import numpy as np\n",
        "\n",
        "lst1=[10,20,30,40,50]\n",
        "lst2=[1,2,3,4,5,6,7]\n",
        "\n",
        "vctr1 = np.array(lst1)\n",
        "vctr2 = np.array(lst2)\n",
        "\n",
        "print(\"Vector created from a list:\")\n",
        "print(vctr1)\n",
        "print(\"Vector created from a list:\")\n",
        "print(vctr2)\n",
        "\n",
        "vctr_add=vctr1+vctr2\n",
        "print(\"addittion of two vectors: \",vctr_add)\n"
      ],
      "metadata": {
        "colab": {
          "base_uri": "https://localhost:8080/",
          "height": 263
        },
        "id": "t9bqTVmd9fSW",
        "outputId": "eaff9f53-50b7-4fa2-8977-769651bcd4aa"
      },
      "execution_count": 20,
      "outputs": [
        {
          "output_type": "stream",
          "name": "stdout",
          "text": [
            "Vector created from a list:\n",
            "[10 20 30 40 50]\n",
            "Vector created from a list:\n",
            "[1 2 3 4 5 6 7]\n"
          ]
        },
        {
          "output_type": "error",
          "ename": "ValueError",
          "evalue": "operands could not be broadcast together with shapes (5,) (7,) ",
          "traceback": [
            "\u001b[0;31m---------------------------------------------------------------------------\u001b[0m",
            "\u001b[0;31mValueError\u001b[0m                                Traceback (most recent call last)",
            "\u001b[0;32m/tmp/ipython-input-1668892706.py\u001b[0m in \u001b[0;36m<cell line: 0>\u001b[0;34m()\u001b[0m\n\u001b[1;32m     12\u001b[0m \u001b[0mprint\u001b[0m\u001b[0;34m(\u001b[0m\u001b[0mvctr2\u001b[0m\u001b[0;34m)\u001b[0m\u001b[0;34m\u001b[0m\u001b[0;34m\u001b[0m\u001b[0m\n\u001b[1;32m     13\u001b[0m \u001b[0;34m\u001b[0m\u001b[0m\n\u001b[0;32m---> 14\u001b[0;31m \u001b[0mvctr_add\u001b[0m\u001b[0;34m=\u001b[0m\u001b[0mvctr1\u001b[0m\u001b[0;34m+\u001b[0m\u001b[0mvctr2\u001b[0m\u001b[0;34m\u001b[0m\u001b[0;34m\u001b[0m\u001b[0m\n\u001b[0m\u001b[1;32m     15\u001b[0m \u001b[0mprint\u001b[0m\u001b[0;34m(\u001b[0m\u001b[0;34m\"addittion of two vectors: \"\u001b[0m\u001b[0;34m,\u001b[0m\u001b[0mvctr_add\u001b[0m\u001b[0;34m)\u001b[0m\u001b[0;34m\u001b[0m\u001b[0;34m\u001b[0m\u001b[0m\n",
            "\u001b[0;31mValueError\u001b[0m: operands could not be broadcast together with shapes (5,) (7,) "
          ]
        }
      ]
    },
    {
      "cell_type": "code",
      "source": [
        "import numpy as np\n",
        "\n",
        "lst1=[10,20,30,40,50]\n",
        "lst2=[1,2,3,4,5]\n",
        "\n",
        "vctr1 = np.array(lst1)\n",
        "vctr2 = np.array(lst2)\n",
        "\n",
        "print(\"Vector created from a list:\")\n",
        "print(vctr1)\n",
        "print(\"Vector created from a list:\")\n",
        "print(vctr2)\n",
        "\n",
        "vctr_add=vctr1-vctr2\n",
        "print(\"addittion of two vectors: \",vctr_add)"
      ],
      "metadata": {
        "colab": {
          "base_uri": "https://localhost:8080/"
        },
        "id": "KexE1ddZBGX1",
        "outputId": "21804f73-b7a4-4504-fcef-b3dd4f3a3dbb"
      },
      "execution_count": 22,
      "outputs": [
        {
          "output_type": "stream",
          "name": "stdout",
          "text": [
            "Vector created from a list:\n",
            "[10 20 30 40 50]\n",
            "Vector created from a list:\n",
            "[1 2 3 4 5]\n",
            "addittion of two vectors:  [ 9 18 27 36 45]\n"
          ]
        }
      ]
    },
    {
      "cell_type": "code",
      "source": [
        "import numpy as np\n",
        "\n",
        "lst1=[10,20,30,40,50]\n",
        "lst2=[1,2,3,4,5]\n",
        "\n",
        "vctr1 = np.array(lst1)\n",
        "vctr2 = np.array(lst2)\n",
        "\n",
        "print(\"Vector created from a list:\")\n",
        "print(vctr1)\n",
        "print(\"Vector created from a list:\")\n",
        "print(vctr2)\n",
        "\n",
        "vctr_add=vctr1*vctr2\n",
        "print(\"addittion of two vectors: \",vctr_add)"
      ],
      "metadata": {
        "colab": {
          "base_uri": "https://localhost:8080/"
        },
        "id": "X1XnHxOOB2QN",
        "outputId": "c5509b20-d7fb-405d-b24a-f555227560b4"
      },
      "execution_count": 25,
      "outputs": [
        {
          "output_type": "stream",
          "name": "stdout",
          "text": [
            "Vector created from a list:\n",
            "[10 20 30 40 50]\n",
            "Vector created from a list:\n",
            "[1 2 3 4 5]\n",
            "addittion of two vectors:  [ 10  40  90 160 250]\n"
          ]
        }
      ]
    },
    {
      "cell_type": "code",
      "source": [
        "import numpy as np\n",
        "\n",
        "lst1=[10,20,30,40,50]\n",
        "lst2=[1,2,3,4,5]\n",
        "\n",
        "vctr1 = np.array(lst1)\n",
        "vctr2 = np.array(lst2)\n",
        "\n",
        "print(\"Vector created from a list:\")\n",
        "print(vctr1)\n",
        "print(\"Vector created from a list:\")\n",
        "print(vctr2)\n",
        "\n",
        "vctr_add=vctr1/vctr2\n",
        "print(\"addittion of two vectors: \",vctr_add)"
      ],
      "metadata": {
        "colab": {
          "base_uri": "https://localhost:8080/"
        },
        "id": "FCb9NQA9B72t",
        "outputId": "7ea26b41-1766-453e-b9cd-084b61b0a995"
      },
      "execution_count": 26,
      "outputs": [
        {
          "output_type": "stream",
          "name": "stdout",
          "text": [
            "Vector created from a list:\n",
            "[10 20 30 40 50]\n",
            "Vector created from a list:\n",
            "[1 2 3 4 5]\n",
            "addittion of two vectors:  [10. 10. 10. 10. 10.]\n"
          ]
        }
      ]
    },
    {
      "cell_type": "code",
      "source": [
        "import numpy as np\n",
        "\n",
        "lst1 = [10,20,30,40,50]\n",
        "lst2 = [1,1,1,1,1]\n",
        "\n",
        "vctr1 = np.array(lst1)\n",
        "vctr2 = np.array(lst2)\n",
        "\n",
        "print(\"Vector creado a partir de una lista 1:\")\n",
        "print(vctr1)\n",
        "\n",
        "print(\"Vector creado a partir de una lista 2:\")\n",
        "print(vctr2)\n",
        "\n",
        "vctr_dot = vctr1.dot(vctr2)\n",
        "print(\"Producto punto de los dos vectores:\", vctr_dot)\n"
      ],
      "metadata": {
        "colab": {
          "base_uri": "https://localhost:8080/"
        },
        "id": "6FvEv5FwB9Pb",
        "outputId": "e77132b9-fae2-4481-a7dc-8cd369402990"
      },
      "execution_count": 29,
      "outputs": [
        {
          "output_type": "stream",
          "name": "stdout",
          "text": [
            "Vector creado a partir de una lista 1:\n",
            "[10 20 30 40 50]\n",
            "Vector creado a partir de una lista 2:\n",
            "[1 1 1 1 1]\n",
            "Producto punto de los dos vectores: 150\n"
          ]
        }
      ]
    },
    {
      "cell_type": "code",
      "source": [
        "import numpy as np\n",
        "\n",
        "lst1 = [10,20,30,40,50]\n",
        "lst2 = [2,2,2,2,2]\n",
        "\n",
        "vctr1 = np.array(lst1)\n",
        "vctr2 = np.array(lst2)\n",
        "\n",
        "print(\"Vector creado a partir de una lista 1:\")\n",
        "print(vctr1)\n",
        "\n",
        "print(\"Vector creado a partir de una lista 2:\")\n",
        "print(vctr2)\n",
        "\n",
        "vctr_dot = vctr1.dot(vctr2)\n",
        "print(\"Producto punto de los dos vectores:\", vctr_dot)\n"
      ],
      "metadata": {
        "colab": {
          "base_uri": "https://localhost:8080/"
        },
        "id": "850aSfcdCvX0",
        "outputId": "caa76a92-6bc1-4be5-c867-fc54bfb60672"
      },
      "execution_count": 30,
      "outputs": [
        {
          "output_type": "stream",
          "name": "stdout",
          "text": [
            "Vector creado a partir de una lista 1:\n",
            "[10 20 30 40 50]\n",
            "Vector creado a partir de una lista 2:\n",
            "[2 2 2 2 2]\n",
            "Producto punto de los dos vectores: 300\n"
          ]
        }
      ]
    },
    {
      "cell_type": "code",
      "source": [],
      "metadata": {
        "id": "DWd4IPILDEIL"
      },
      "execution_count": null,
      "outputs": []
    }
  ]
}