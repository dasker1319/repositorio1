{
 "cells": [
  {
   "cell_type": "markdown",
   "metadata": {
    "id": "ksd1aEw1rQL-"
   },
   "source": [
    "# Intro python \n",
    "## Práctica 04: numpy ndarray\n",
    "\n",
    "Vamos a ver cómo:\n",
    "* Punto 1: Crear ndarrays en python\n",
    "* Punto 2: Operar entre columnas\n",
    "* Punto 3: Seleccionar elementos"
   ]
  },
  {
   "cell_type": "markdown",
   "metadata": {
    "id": "IzX2IF1brQMH"
   },
   "source": [
    "# Punto 1:"
   ]
  },
  {
   "cell_type": "code",
   "execution_count": null,
   "metadata": {
    "id": "-8vVwObVrQMI"
   },
   "outputs": [],
   "source": [
    "# importar numpy as np\n"
   ]
  },
  {
   "cell_type": "code",
   "execution_count": null,
   "metadata": {
    "id": "_ydsmdMIrQMN"
   },
   "outputs": [],
   "source": [
    "# crear lista con numeros primos\n"
   ]
  },
  {
   "cell_type": "code",
   "execution_count": null,
   "metadata": {
    "id": "Bm4rwo3brQMO"
   },
   "outputs": [],
   "source": [
    "# crear array a partir de lista\n"
   ]
  },
  {
   "cell_type": "code",
   "execution_count": null,
   "metadata": {
    "id": "T59-O0N8rQMP"
   },
   "outputs": [],
   "source": [
    "# crear arrays con ceros o cómo inicializar un arreglo de numpy\n"
   ]
  },
  {
   "cell_type": "code",
   "execution_count": null,
   "metadata": {
    "id": "2cGt3bNTrQMQ"
   },
   "outputs": [],
   "source": [
    "# crear arrays con números\n"
   ]
  },
  {
   "cell_type": "code",
   "execution_count": null,
   "metadata": {
    "id": "jEr0JEvPrQMR"
   },
   "outputs": [],
   "source": [
    "# array con numeros sucesivos\n",
    "arrays_impares=np.arange(0,13,3)\n",
    "arrays_impares"
   ]
  },
  {
   "cell_type": "code",
   "execution_count": null,
   "metadata": {
    "id": "PMf3RtUy0UaZ"
   },
   "outputs": [],
   "source": []
  },
  {
   "cell_type": "code",
   "execution_count": null,
   "metadata": {
    "id": "rqzV9v4VrQMS"
   },
   "outputs": [],
   "source": [
    "# haciendo un reshape para dos dimensiones\n"
   ]
  },
  {
   "cell_type": "markdown",
   "metadata": {
    "id": "aEqENfKqrQMT"
   },
   "source": [
    "# Punto 2:"
   ]
  },
  {
   "cell_type": "code",
   "execution_count": null,
   "metadata": {
    "id": "qPA2z0MbrQMV"
   },
   "outputs": [],
   "source": [
    "# operaciones aritmeticas sobre np array 1-dimension y 2-dimension\n"
   ]
  },
  {
   "cell_type": "code",
   "execution_count": null,
   "metadata": {
    "id": "gZF1XsTvrQMW"
   },
   "outputs": [],
   "source": [
    "# multiplicar por 100\n"
   ]
  },
  {
   "cell_type": "code",
   "execution_count": null,
   "metadata": {
    "id": "fIRl55TvrQMX"
   },
   "outputs": [],
   "source": [
    "# resta entre arrays\n"
   ]
  },
  {
   "cell_type": "code",
   "execution_count": null,
   "metadata": {
    "id": "eii_zGXHrQMY"
   },
   "outputs": [],
   "source": [
    "# cuidado con la división entre cero\n"
   ]
  },
  {
   "cell_type": "code",
   "execution_count": null,
   "metadata": {
    "id": "YvHgL2bYrQMY"
   },
   "outputs": [],
   "source": [
    "# métodos asociados a estadística\n",
    "# suma\n"
   ]
  },
  {
   "cell_type": "code",
   "execution_count": null,
   "metadata": {
    "id": "HkuxM8S2rQMZ"
   },
   "outputs": [],
   "source": [
    "# promedio\n"
   ]
  },
  {
   "cell_type": "code",
   "execution_count": null,
   "metadata": {
    "id": "Ar4AkEcVrQMa"
   },
   "outputs": [],
   "source": [
    "# varianza\n"
   ]
  },
  {
   "cell_type": "code",
   "execution_count": null,
   "metadata": {
    "id": "a27BAGu1rQMa"
   },
   "outputs": [],
   "source": [
    "# como ordenar un np array\n"
   ]
  },
  {
   "cell_type": "code",
   "execution_count": null,
   "metadata": {
    "id": "9jZOEByorQMb"
   },
   "outputs": [],
   "source": [
    "# orden ascendente: de menor a mayor\n"
   ]
  },
  {
   "cell_type": "code",
   "execution_count": null,
   "metadata": {
    "id": "Y6g5br--rQMb"
   },
   "outputs": [],
   "source": [
    "# orden descendente: de mayor a menor\n"
   ]
  },
  {
   "cell_type": "markdown",
   "metadata": {
    "id": "b3Mj3g7VrQMc"
   },
   "source": [
    "# Punto 3:"
   ]
  },
  {
   "cell_type": "code",
   "execution_count": null,
   "metadata": {
    "id": "EaWFAX_PrQMc"
   },
   "outputs": [],
   "source": [
    "# Como seleccionar elements"
   ]
  },
  {
   "cell_type": "code",
   "execution_count": null,
   "metadata": {
    "id": "IpW5T8EUrQMd"
   },
   "outputs": [],
   "source": [
    "# Seleccionar un elemento"
   ]
  },
  {
   "cell_type": "code",
   "execution_count": 5,
   "metadata": {
    "colab": {
     "base_uri": "https://localhost:8080/",
     "height": 158
    },
    "executionInfo": {
     "elapsed": 217,
     "status": "error",
     "timestamp": 1726957446594,
     "user": {
      "displayName": "Luis Ojeda",
      "userId": "16212426576334272854"
     },
     "user_tz": 300
    },
    "id": "FbjcTmn0rQMd",
    "outputId": "a304a20c-7699-41b0-d048-1411e4394264"
   },
   "outputs": [
    {
     "ename": "NameError",
     "evalue": "name 'np' is not defined",
     "output_type": "error",
     "traceback": [
      "\u001b[0;31m---------------------------------------------------------------------------\u001b[0m",
      "\u001b[0;31mNameError\u001b[0m                                 Traceback (most recent call last)",
      "\u001b[0;32m<ipython-input-5-29a0fb865f4e>\u001b[0m in \u001b[0;36m<cell line: 1>\u001b[0;34m()\u001b[0m\n\u001b[0;32m----> 1\u001b[0;31m \u001b[0mA\u001b[0m \u001b[0;34m=\u001b[0m \u001b[0mnp\u001b[0m\u001b[0;34m.\u001b[0m\u001b[0marange\u001b[0m\u001b[0;34m(\u001b[0m\u001b[0;36m0\u001b[0m\u001b[0;34m,\u001b[0m\u001b[0;36m20\u001b[0m\u001b[0;34m,\u001b[0m\u001b[0;36m2\u001b[0m\u001b[0;34m)\u001b[0m\u001b[0;34m.\u001b[0m\u001b[0mreshape\u001b[0m\u001b[0;34m(\u001b[0m\u001b[0;36m2\u001b[0m\u001b[0;34m,\u001b[0m\u001b[0;36m5\u001b[0m\u001b[0;34m)\u001b[0m\u001b[0;34m\u001b[0m\u001b[0;34m\u001b[0m\u001b[0m\n\u001b[0m\u001b[1;32m      2\u001b[0m \u001b[0mA\u001b[0m\u001b[0;34m\u001b[0m\u001b[0;34m\u001b[0m\u001b[0m\n",
      "\u001b[0;31mNameError\u001b[0m: name 'np' is not defined"
     ]
    }
   ],
   "source": [
    "A = np.arange(0,20,2).reshape(2,5)\n",
    "A"
   ]
  },
  {
   "cell_type": "code",
   "execution_count": null,
   "metadata": {
    "id": "cML-ZhlNrQMd"
   },
   "outputs": [],
   "source": [
    "# seleccionar el primer elemento\n"
   ]
  },
  {
   "cell_type": "code",
   "execution_count": null,
   "metadata": {
    "id": "Sn1J9BvbrQMe"
   },
   "outputs": [],
   "source": [
    "# seleccionar algún otro elemento\n"
   ]
  },
  {
   "cell_type": "code",
   "execution_count": null,
   "metadata": {
    "id": "UCBYasGjrQMe"
   },
   "outputs": [],
   "source": [
    "# Seleccionar varios elementos"
   ]
  },
  {
   "cell_type": "code",
   "execution_count": null,
   "metadata": {
    "id": "_OtSuP9CrQMe"
   },
   "outputs": [],
   "source": [
    "# seleccionar por fila\n"
   ]
  },
  {
   "cell_type": "code",
   "execution_count": null,
   "metadata": {
    "id": "kTOEP92VrQMf"
   },
   "outputs": [],
   "source": [
    "# seleccionar por columna\n"
   ]
  },
  {
   "cell_type": "code",
   "execution_count": null,
   "metadata": {
    "id": "Gn5XP6QDrQMg"
   },
   "outputs": [],
   "source": [
    "# Utilizar filter"
   ]
  },
  {
   "cell_type": "code",
   "execution_count": null,
   "metadata": {
    "id": "fvdmT-EYrQMg"
   },
   "outputs": [],
   "source": []
  },
  {
   "cell_type": "code",
   "execution_count": null,
   "metadata": {
    "id": "dAJ4MIhsrQMg"
   },
   "outputs": [],
   "source": [
    "# conidicion para menores de 20\n"
   ]
  },
  {
   "cell_type": "code",
   "execution_count": null,
   "metadata": {
    "id": "xiURU5PwrQMh"
   },
   "outputs": [],
   "source": [
    "# filtrar menores de 20\n"
   ]
  },
  {
   "cell_type": "code",
   "execution_count": null,
   "metadata": {
    "id": "6-Zw1tIqrQMh"
   },
   "outputs": [],
   "source": []
  }
 ],
 "metadata": {
  "colab": {
   "provenance": []
  },
  "kernelspec": {
   "display_name": "anaconda-panel-2023.05-py310",
   "language": "python",
   "name": "conda-env-anaconda-panel-2023.05-py310-py"
  },
  "language_info": {
   "codemirror_mode": {
    "name": "ipython",
    "version": 3
   },
   "file_extension": ".py",
   "mimetype": "text/x-python",
   "name": "python",
   "nbconvert_exporter": "python",
   "pygments_lexer": "ipython3",
   "version": "3.11.5"
  }
 },
 "nbformat": 4,
 "nbformat_minor": 4
}
