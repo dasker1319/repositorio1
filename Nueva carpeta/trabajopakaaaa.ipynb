{
  "nbformat": 4,
  "nbformat_minor": 0,
  "metadata": {
    "colab": {
      "provenance": []
    },
    "kernelspec": {
      "name": "python3",
      "display_name": "Python 3"
    },
    "language_info": {
      "name": "python"
    }
  },
  "cells": [
    {
      "cell_type": "code",
      "execution_count": 15,
      "metadata": {
        "colab": {
          "base_uri": "https://localhost:8080/"
        },
        "id": "JP3vk_IhrX_p",
        "outputId": "27c4f9ef-0600-4b41-d44a-d137799ed6d5"
      },
      "outputs": [
        {
          "output_type": "stream",
          "name": "stdout",
          "text": [
            "['millonarios', 'comida', 'deporte']\n",
            "millonarios\n",
            "comida\n",
            "deporte\n"
          ]
        }
      ],
      "source": [
        "mylist =[\"millonarios\", \"comida\", \"deporte\"]\n",
        "print (mylist)\n",
        "\n",
        "for item in mylist:\n",
        "    print(item)\n"
      ]
    },
    {
      "cell_type": "code",
      "source": [
        "lista=[1, \"nose\", 23]\n",
        "\n",
        "listin=list([25, 2, \"millonarios\"])\n",
        "\n",
        "print(lista)\n",
        "\n",
        "print(listin)\n",
        "\n",
        "for item in lista:\n",
        "    print(item)\n",
        "\n",
        "for item in listin:\n",
        "    print(item)"
      ],
      "metadata": {
        "colab": {
          "base_uri": "https://localhost:8080/"
        },
        "id": "NIyM3ZiluPXv",
        "outputId": "5aac52e7-2b65-48a5-b9f1-1df29fe69be9"
      },
      "execution_count": 21,
      "outputs": [
        {
          "output_type": "stream",
          "name": "stdout",
          "text": [
            "[1, 'nose', 23]\n",
            "[25, 2, 'millonarios']\n",
            "1\n",
            "nose\n",
            "23\n",
            "25\n",
            "2\n",
            "millonarios\n"
          ]
        }
      ]
    },
    {
      "cell_type": "code",
      "source": [
        "mi_lista = ['MILLOS', 'ORNITORRINCO', 'COMIDA', 'DORMIR', 'FUTBOL']\n",
        "\n",
        "print(mi_lista[0])\n",
        "print(mi_lista[-1])\n",
        "print(mi_lista[1])\n",
        "print(mi_lista[2])\n",
        "print(mi_lista[-2])\n"
      ],
      "metadata": {
        "colab": {
          "base_uri": "https://localhost:8080/"
        },
        "id": "J5eYdPigyQpY",
        "outputId": "8d40e175-c2a8-4293-d153-6600c2dadac6"
      },
      "execution_count": 25,
      "outputs": [
        {
          "output_type": "stream",
          "name": "stdout",
          "text": [
            "MILLOS\n",
            "FUTBOL\n",
            "ORNITORRINCO\n",
            "COMIDA\n",
            "DORMIR\n"
          ]
        }
      ]
    },
    {
      "cell_type": "code",
      "source": [
        "edades =[20, 41, 6, 18, 23]\n",
        "\n",
        "for edad in edades:\n",
        "  print(edad)"
      ],
      "metadata": {
        "colab": {
          "base_uri": "https://localhost:8080/"
        },
        "id": "atY-nacr0BSe",
        "outputId": "7df41cb1-2aa5-472e-e945-5f92162273b0"
      },
      "execution_count": 29,
      "outputs": [
        {
          "output_type": "stream",
          "name": "stdout",
          "text": [
            "20\n",
            "41\n",
            "6\n",
            "18\n",
            "23\n"
          ]
        }
      ]
    },
    {
      "cell_type": "code",
      "source": [
        "edades =[20, 41, 6, 18, 23]\n",
        "\n",
        "for i in range(len(edades)):\n",
        "  print(edades[i])"
      ],
      "metadata": {
        "colab": {
          "base_uri": "https://localhost:8080/"
        },
        "id": "A2c2nqA20Rgn",
        "outputId": "821593f2-3698-4c41-e73d-74fa037655c4"
      },
      "execution_count": 30,
      "outputs": [
        {
          "output_type": "stream",
          "name": "stdout",
          "text": [
            "20\n",
            "41\n",
            "6\n",
            "18\n",
            "23\n"
          ]
        }
      ]
    },
    {
      "cell_type": "code",
      "source": [
        "edades =[20, 41, 6, 18, 23]\n",
        "\n",
        "indice=0\n",
        "\n",
        "while indice<len(edades):\n",
        "  print(edades[indice])\n",
        "  indice+=1"
      ],
      "metadata": {
        "colab": {
          "base_uri": "https://localhost:8080/"
        },
        "id": "TUnjPJWG0uCm",
        "outputId": "411e2641-3d53-4e90-a23e-14184e8fd8ca"
      },
      "execution_count": 32,
      "outputs": [
        {
          "output_type": "stream",
          "name": "stdout",
          "text": [
            "20\n",
            "41\n",
            "6\n",
            "18\n",
            "23\n"
          ]
        }
      ]
    },
    {
      "cell_type": "code",
      "source": [
        "números = []\n",
        "\n",
        "números.append(10)\n",
        "números.append(5)\n",
        "números.append(3)\n",
        "\n",
        "print(números)\n",
        "# Mostrará [10, 5, 3]\n",
        "\n",
        "\n"
      ],
      "metadata": {
        "colab": {
          "base_uri": "https://localhost:8080/"
        },
        "id": "vvEOuE_13iru",
        "outputId": "b9960242-518b-4be9-a4de-a9e9f512c845"
      },
      "execution_count": 36,
      "outputs": [
        {
          "output_type": "stream",
          "name": "stdout",
          "text": [
            "[10, 5, 3]\n"
          ]
        }
      ]
    },
    {
      "cell_type": "code",
      "source": [],
      "metadata": {
        "id": "0WlQX3Wo4rBf"
      },
      "execution_count": null,
      "outputs": []
    }
  ]
}